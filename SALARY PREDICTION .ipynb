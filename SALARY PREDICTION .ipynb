{
 "cells": [
  {
   "cell_type": "code",
   "execution_count": 1,
   "id": "123508fb",
   "metadata": {},
   "outputs": [],
   "source": [
    "import numpy as np\n",
    "import pandas as pd\n",
    "import seaborn as sb\n",
    "import matplotlib.pyplot as plt"
   ]
  },
  {
   "cell_type": "code",
   "execution_count": 2,
   "id": "7730a8a8",
   "metadata": {},
   "outputs": [],
   "source": [
    "data=pd.read_csv(\"SALARYPREDICTION.csv\")"
   ]
  },
  {
   "cell_type": "code",
   "execution_count": 3,
   "id": "2312cdd6",
   "metadata": {
    "scrolled": true
   },
   "outputs": [
    {
     "name": "stdout",
     "output_type": "stream",
     "text": [
      "<class 'pandas.core.frame.DataFrame'>\n",
      "RangeIndex: 40 entries, 0 to 39\n",
      "Data columns (total 2 columns):\n",
      " #   Column            Non-Null Count  Dtype  \n",
      "---  ------            --------------  -----  \n",
      " 0   Experience Years  40 non-null     float64\n",
      " 1   Salary            40 non-null     int64  \n",
      "dtypes: float64(1), int64(1)\n",
      "memory usage: 768.0 bytes\n"
     ]
    }
   ],
   "source": [
    "data.info()"
   ]
  },
  {
   "cell_type": "code",
   "execution_count": 4,
   "id": "5588ab57",
   "metadata": {},
   "outputs": [
    {
     "data": {
      "text/html": [
       "<div>\n",
       "<style scoped>\n",
       "    .dataframe tbody tr th:only-of-type {\n",
       "        vertical-align: middle;\n",
       "    }\n",
       "\n",
       "    .dataframe tbody tr th {\n",
       "        vertical-align: top;\n",
       "    }\n",
       "\n",
       "    .dataframe thead th {\n",
       "        text-align: right;\n",
       "    }\n",
       "</style>\n",
       "<table border=\"1\" class=\"dataframe\">\n",
       "  <thead>\n",
       "    <tr style=\"text-align: right;\">\n",
       "      <th></th>\n",
       "      <th>Experience Years</th>\n",
       "      <th>Salary</th>\n",
       "    </tr>\n",
       "  </thead>\n",
       "  <tbody>\n",
       "    <tr>\n",
       "      <th>count</th>\n",
       "      <td>40.000000</td>\n",
       "      <td>40.000000</td>\n",
       "    </tr>\n",
       "    <tr>\n",
       "      <th>mean</th>\n",
       "      <td>5.152500</td>\n",
       "      <td>74743.625000</td>\n",
       "    </tr>\n",
       "    <tr>\n",
       "      <th>std</th>\n",
       "      <td>2.663715</td>\n",
       "      <td>25947.122885</td>\n",
       "    </tr>\n",
       "    <tr>\n",
       "      <th>min</th>\n",
       "      <td>1.100000</td>\n",
       "      <td>37731.000000</td>\n",
       "    </tr>\n",
       "    <tr>\n",
       "      <th>25%</th>\n",
       "      <td>3.200000</td>\n",
       "      <td>56878.250000</td>\n",
       "    </tr>\n",
       "    <tr>\n",
       "      <th>50%</th>\n",
       "      <td>4.600000</td>\n",
       "      <td>64472.500000</td>\n",
       "    </tr>\n",
       "    <tr>\n",
       "      <th>75%</th>\n",
       "      <td>6.875000</td>\n",
       "      <td>95023.250000</td>\n",
       "    </tr>\n",
       "    <tr>\n",
       "      <th>max</th>\n",
       "      <td>10.500000</td>\n",
       "      <td>122391.000000</td>\n",
       "    </tr>\n",
       "  </tbody>\n",
       "</table>\n",
       "</div>"
      ],
      "text/plain": [
       "       Experience Years         Salary\n",
       "count         40.000000      40.000000\n",
       "mean           5.152500   74743.625000\n",
       "std            2.663715   25947.122885\n",
       "min            1.100000   37731.000000\n",
       "25%            3.200000   56878.250000\n",
       "50%            4.600000   64472.500000\n",
       "75%            6.875000   95023.250000\n",
       "max           10.500000  122391.000000"
      ]
     },
     "execution_count": 4,
     "metadata": {},
     "output_type": "execute_result"
    }
   ],
   "source": [
    "data.describe()"
   ]
  },
  {
   "cell_type": "code",
   "execution_count": 5,
   "id": "a55a5e39",
   "metadata": {},
   "outputs": [
    {
     "data": {
      "text/html": [
       "<div>\n",
       "<style scoped>\n",
       "    .dataframe tbody tr th:only-of-type {\n",
       "        vertical-align: middle;\n",
       "    }\n",
       "\n",
       "    .dataframe tbody tr th {\n",
       "        vertical-align: top;\n",
       "    }\n",
       "\n",
       "    .dataframe thead th {\n",
       "        text-align: right;\n",
       "    }\n",
       "</style>\n",
       "<table border=\"1\" class=\"dataframe\">\n",
       "  <thead>\n",
       "    <tr style=\"text-align: right;\">\n",
       "      <th></th>\n",
       "      <th>Experience Years</th>\n",
       "      <th>Salary</th>\n",
       "    </tr>\n",
       "  </thead>\n",
       "  <tbody>\n",
       "    <tr>\n",
       "      <th>0</th>\n",
       "      <td>1.1</td>\n",
       "      <td>39343</td>\n",
       "    </tr>\n",
       "    <tr>\n",
       "      <th>1</th>\n",
       "      <td>1.2</td>\n",
       "      <td>42774</td>\n",
       "    </tr>\n",
       "    <tr>\n",
       "      <th>2</th>\n",
       "      <td>1.3</td>\n",
       "      <td>46205</td>\n",
       "    </tr>\n",
       "    <tr>\n",
       "      <th>3</th>\n",
       "      <td>1.5</td>\n",
       "      <td>37731</td>\n",
       "    </tr>\n",
       "    <tr>\n",
       "      <th>4</th>\n",
       "      <td>2.0</td>\n",
       "      <td>43525</td>\n",
       "    </tr>\n",
       "    <tr>\n",
       "      <th>5</th>\n",
       "      <td>2.2</td>\n",
       "      <td>39891</td>\n",
       "    </tr>\n",
       "    <tr>\n",
       "      <th>6</th>\n",
       "      <td>2.5</td>\n",
       "      <td>48266</td>\n",
       "    </tr>\n",
       "    <tr>\n",
       "      <th>7</th>\n",
       "      <td>2.9</td>\n",
       "      <td>56642</td>\n",
       "    </tr>\n",
       "    <tr>\n",
       "      <th>8</th>\n",
       "      <td>3.0</td>\n",
       "      <td>60150</td>\n",
       "    </tr>\n",
       "    <tr>\n",
       "      <th>9</th>\n",
       "      <td>3.2</td>\n",
       "      <td>54445</td>\n",
       "    </tr>\n",
       "    <tr>\n",
       "      <th>10</th>\n",
       "      <td>3.2</td>\n",
       "      <td>64445</td>\n",
       "    </tr>\n",
       "    <tr>\n",
       "      <th>11</th>\n",
       "      <td>3.5</td>\n",
       "      <td>60000</td>\n",
       "    </tr>\n",
       "    <tr>\n",
       "      <th>12</th>\n",
       "      <td>3.7</td>\n",
       "      <td>57189</td>\n",
       "    </tr>\n",
       "    <tr>\n",
       "      <th>13</th>\n",
       "      <td>3.8</td>\n",
       "      <td>60200</td>\n",
       "    </tr>\n",
       "    <tr>\n",
       "      <th>14</th>\n",
       "      <td>3.9</td>\n",
       "      <td>63218</td>\n",
       "    </tr>\n",
       "    <tr>\n",
       "      <th>15</th>\n",
       "      <td>4.0</td>\n",
       "      <td>55794</td>\n",
       "    </tr>\n",
       "    <tr>\n",
       "      <th>16</th>\n",
       "      <td>4.0</td>\n",
       "      <td>56957</td>\n",
       "    </tr>\n",
       "    <tr>\n",
       "      <th>17</th>\n",
       "      <td>4.1</td>\n",
       "      <td>57081</td>\n",
       "    </tr>\n",
       "    <tr>\n",
       "      <th>18</th>\n",
       "      <td>4.3</td>\n",
       "      <td>59095</td>\n",
       "    </tr>\n",
       "    <tr>\n",
       "      <th>19</th>\n",
       "      <td>4.5</td>\n",
       "      <td>61111</td>\n",
       "    </tr>\n",
       "    <tr>\n",
       "      <th>20</th>\n",
       "      <td>4.7</td>\n",
       "      <td>64500</td>\n",
       "    </tr>\n",
       "    <tr>\n",
       "      <th>21</th>\n",
       "      <td>4.9</td>\n",
       "      <td>67938</td>\n",
       "    </tr>\n",
       "    <tr>\n",
       "      <th>22</th>\n",
       "      <td>5.1</td>\n",
       "      <td>66029</td>\n",
       "    </tr>\n",
       "    <tr>\n",
       "      <th>23</th>\n",
       "      <td>5.3</td>\n",
       "      <td>83088</td>\n",
       "    </tr>\n",
       "    <tr>\n",
       "      <th>24</th>\n",
       "      <td>5.5</td>\n",
       "      <td>82200</td>\n",
       "    </tr>\n",
       "    <tr>\n",
       "      <th>25</th>\n",
       "      <td>5.9</td>\n",
       "      <td>81363</td>\n",
       "    </tr>\n",
       "    <tr>\n",
       "      <th>26</th>\n",
       "      <td>6.0</td>\n",
       "      <td>93940</td>\n",
       "    </tr>\n",
       "    <tr>\n",
       "      <th>27</th>\n",
       "      <td>6.2</td>\n",
       "      <td>91000</td>\n",
       "    </tr>\n",
       "    <tr>\n",
       "      <th>28</th>\n",
       "      <td>6.5</td>\n",
       "      <td>90000</td>\n",
       "    </tr>\n",
       "    <tr>\n",
       "      <th>29</th>\n",
       "      <td>6.8</td>\n",
       "      <td>91738</td>\n",
       "    </tr>\n",
       "    <tr>\n",
       "      <th>30</th>\n",
       "      <td>7.1</td>\n",
       "      <td>98273</td>\n",
       "    </tr>\n",
       "    <tr>\n",
       "      <th>31</th>\n",
       "      <td>7.9</td>\n",
       "      <td>101302</td>\n",
       "    </tr>\n",
       "    <tr>\n",
       "      <th>32</th>\n",
       "      <td>8.2</td>\n",
       "      <td>113812</td>\n",
       "    </tr>\n",
       "    <tr>\n",
       "      <th>33</th>\n",
       "      <td>8.5</td>\n",
       "      <td>111620</td>\n",
       "    </tr>\n",
       "    <tr>\n",
       "      <th>34</th>\n",
       "      <td>8.7</td>\n",
       "      <td>109431</td>\n",
       "    </tr>\n",
       "    <tr>\n",
       "      <th>35</th>\n",
       "      <td>9.0</td>\n",
       "      <td>105582</td>\n",
       "    </tr>\n",
       "    <tr>\n",
       "      <th>36</th>\n",
       "      <td>9.5</td>\n",
       "      <td>116969</td>\n",
       "    </tr>\n",
       "    <tr>\n",
       "      <th>37</th>\n",
       "      <td>9.6</td>\n",
       "      <td>112635</td>\n",
       "    </tr>\n",
       "    <tr>\n",
       "      <th>38</th>\n",
       "      <td>10.3</td>\n",
       "      <td>122391</td>\n",
       "    </tr>\n",
       "    <tr>\n",
       "      <th>39</th>\n",
       "      <td>10.5</td>\n",
       "      <td>121872</td>\n",
       "    </tr>\n",
       "  </tbody>\n",
       "</table>\n",
       "</div>"
      ],
      "text/plain": [
       "    Experience Years  Salary\n",
       "0                1.1   39343\n",
       "1                1.2   42774\n",
       "2                1.3   46205\n",
       "3                1.5   37731\n",
       "4                2.0   43525\n",
       "5                2.2   39891\n",
       "6                2.5   48266\n",
       "7                2.9   56642\n",
       "8                3.0   60150\n",
       "9                3.2   54445\n",
       "10               3.2   64445\n",
       "11               3.5   60000\n",
       "12               3.7   57189\n",
       "13               3.8   60200\n",
       "14               3.9   63218\n",
       "15               4.0   55794\n",
       "16               4.0   56957\n",
       "17               4.1   57081\n",
       "18               4.3   59095\n",
       "19               4.5   61111\n",
       "20               4.7   64500\n",
       "21               4.9   67938\n",
       "22               5.1   66029\n",
       "23               5.3   83088\n",
       "24               5.5   82200\n",
       "25               5.9   81363\n",
       "26               6.0   93940\n",
       "27               6.2   91000\n",
       "28               6.5   90000\n",
       "29               6.8   91738\n",
       "30               7.1   98273\n",
       "31               7.9  101302\n",
       "32               8.2  113812\n",
       "33               8.5  111620\n",
       "34               8.7  109431\n",
       "35               9.0  105582\n",
       "36               9.5  116969\n",
       "37               9.6  112635\n",
       "38              10.3  122391\n",
       "39              10.5  121872"
      ]
     },
     "execution_count": 5,
     "metadata": {},
     "output_type": "execute_result"
    }
   ],
   "source": [
    "data.head(41)"
   ]
  },
  {
   "cell_type": "code",
   "execution_count": 6,
   "id": "6c564a0f",
   "metadata": {},
   "outputs": [],
   "source": [
    "x=data[['Experience Years']]   #column form or column vector\n",
    "y=data['Salary']     #flat vector or row"
   ]
  },
  {
   "cell_type": "code",
   "execution_count": 7,
   "id": "fc9ebd2c",
   "metadata": {},
   "outputs": [
    {
     "data": {
      "text/plain": [
       "[<matplotlib.lines.Line2D at 0x2720d8f87c0>]"
      ]
     },
     "execution_count": 7,
     "metadata": {},
     "output_type": "execute_result"
    },
    {
     "data": {
      "image/png": "[encoded data removed]",
      "text/plain": [
       "<Figure size 288x288 with 2 Axes>"
      ]
     },
     "metadata": {
      "needs_background": "light"
     },
     "output_type": "display_data"
    }
   ],
   "source": [
    "fig ,ax = plt.subplots(2 , figsize=(4,4)) \n",
    "ax[0].scatter(x,y)\n",
    "ax[1].plot(x,y)"
   ]
  },
  {
   "cell_type": "code",
   "execution_count": 8,
   "id": "498450d5",
   "metadata": {},
   "outputs": [
    {
     "data": {
      "text/html": [
       "<div>\n",
       "<style scoped>\n",
       "    .dataframe tbody tr th:only-of-type {\n",
       "        vertical-align: middle;\n",
       "    }\n",
       "\n",
       "    .dataframe tbody tr th {\n",
       "        vertical-align: top;\n",
       "    }\n",
       "\n",
       "    .dataframe thead th {\n",
       "        text-align: right;\n",
       "    }\n",
       "</style>\n",
       "<table border=\"1\" class=\"dataframe\">\n",
       "  <thead>\n",
       "    <tr style=\"text-align: right;\">\n",
       "      <th></th>\n",
       "      <th>Experience Years</th>\n",
       "    </tr>\n",
       "  </thead>\n",
       "  <tbody>\n",
       "    <tr>\n",
       "      <th>0</th>\n",
       "      <td>1.1</td>\n",
       "    </tr>\n",
       "    <tr>\n",
       "      <th>1</th>\n",
       "      <td>1.2</td>\n",
       "    </tr>\n",
       "    <tr>\n",
       "      <th>2</th>\n",
       "      <td>1.3</td>\n",
       "    </tr>\n",
       "    <tr>\n",
       "      <th>3</th>\n",
       "      <td>1.5</td>\n",
       "    </tr>\n",
       "    <tr>\n",
       "      <th>4</th>\n",
       "      <td>2.0</td>\n",
       "    </tr>\n",
       "  </tbody>\n",
       "</table>\n",
       "</div>"
      ],
      "text/plain": [
       "   Experience Years\n",
       "0               1.1\n",
       "1               1.2\n",
       "2               1.3\n",
       "3               1.5\n",
       "4               2.0"
      ]
     },
     "execution_count": 8,
     "metadata": {},
     "output_type": "execute_result"
    }
   ],
   "source": [
    "from sklearn.model_selection import train_test_split\n",
    "x_test = data.drop('Salary' ,axis=1)\n",
    "y_test = data.drop('Experience Years' ,axis=1)\n",
    "x_test.head()"
   ]
  },
  {
   "cell_type": "code",
   "execution_count": 9,
   "id": "49eda17a",
   "metadata": {},
   "outputs": [],
   "source": [
    "xtrain , xtest , ytrain , ytest = train_test_split(x_test,y_test,test_size=0.2,random_state=42)"
   ]
  },
  {
   "cell_type": "code",
   "execution_count": 10,
   "id": "00cb95e4",
   "metadata": {},
   "outputs": [
    {
     "data": {
      "text/plain": [
       "LinearRegression()"
      ]
     },
     "execution_count": 10,
     "metadata": {},
     "output_type": "execute_result"
    }
   ],
   "source": [
    "from sklearn.linear_model import LinearRegression\n",
    "le = LinearRegression()\n",
    "le.fit(xtrain,ytrain)"
   ]
  },
  {
   "cell_type": "code",
   "execution_count": 11,
   "id": "46251078",
   "metadata": {},
   "outputs": [],
   "source": [
    "y_pred = le.predict(xtest)"
   ]
  },
  {
   "cell_type": "code",
   "execution_count": 12,
   "id": "6eaf7bc4",
   "metadata": {},
   "outputs": [
    {
     "data": {
      "text/html": [
       "<div>\n",
       "<style scoped>\n",
       "    .dataframe tbody tr th:only-of-type {\n",
       "        vertical-align: middle;\n",
       "    }\n",
       "\n",
       "    .dataframe tbody tr th {\n",
       "        vertical-align: top;\n",
       "    }\n",
       "\n",
       "    .dataframe thead th {\n",
       "        text-align: right;\n",
       "    }\n",
       "</style>\n",
       "<table border=\"1\" class=\"dataframe\">\n",
       "  <thead>\n",
       "    <tr style=\"text-align: right;\">\n",
       "      <th></th>\n",
       "      <th>Salary</th>\n",
       "    </tr>\n",
       "  </thead>\n",
       "  <tbody>\n",
       "    <tr>\n",
       "      <th>19</th>\n",
       "      <td>61111</td>\n",
       "    </tr>\n",
       "    <tr>\n",
       "      <th>16</th>\n",
       "      <td>56957</td>\n",
       "    </tr>\n",
       "    <tr>\n",
       "      <th>15</th>\n",
       "      <td>55794</td>\n",
       "    </tr>\n",
       "    <tr>\n",
       "      <th>26</th>\n",
       "      <td>93940</td>\n",
       "    </tr>\n",
       "    <tr>\n",
       "      <th>4</th>\n",
       "      <td>43525</td>\n",
       "    </tr>\n",
       "    <tr>\n",
       "      <th>12</th>\n",
       "      <td>57189</td>\n",
       "    </tr>\n",
       "    <tr>\n",
       "      <th>37</th>\n",
       "      <td>112635</td>\n",
       "    </tr>\n",
       "    <tr>\n",
       "      <th>27</th>\n",
       "      <td>91000</td>\n",
       "    </tr>\n",
       "  </tbody>\n",
       "</table>\n",
       "</div>"
      ],
      "text/plain": [
       "    Salary\n",
       "19   61111\n",
       "16   56957\n",
       "15   55794\n",
       "26   93940\n",
       "4    43525\n",
       "12   57189\n",
       "37  112635\n",
       "27   91000"
      ]
     },
     "execution_count": 12,
     "metadata": {},
     "output_type": "execute_result"
    }
   ],
   "source": [
    "ytest"
   ]
  },
  {
   "cell_type": "code",
   "execution_count": 13,
   "id": "2b984f12",
   "metadata": {},
   "outputs": [
    {
     "data": {
      "text/plain": [
       "array([[ 69052.39090243],\n",
       "       [ 64348.37526617],\n",
       "       [ 64348.37526617],\n",
       "       [ 83164.43781119],\n",
       "       [ 45532.31272116],\n",
       "       [ 61525.96588442],\n",
       "       [117033.35039221],\n",
       "       [ 85046.04406569]])"
      ]
     },
     "execution_count": 13,
     "metadata": {},
     "output_type": "execute_result"
    }
   ],
   "source": [
    "y_pred"
   ]
  },
  {
   "cell_type": "code",
   "execution_count": 14,
   "id": "6c45ca11",
   "metadata": {},
   "outputs": [],
   "source": [
    "ii = le.intercept_"
   ]
  },
  {
   "cell_type": "code",
   "execution_count": 15,
   "id": "41baeef1",
   "metadata": {},
   "outputs": [],
   "source": [
    "cc =le.coef_"
   ]
  },
  {
   "cell_type": "code",
   "execution_count": 16,
   "id": "c4cabbb5",
   "metadata": {},
   "outputs": [
    {
     "name": "stdout",
     "output_type": "stream",
     "text": [
      "Enter the number of years: \n"
     ]
    }
   ],
   "source": [
    "print(\"Enter the number of years: \")"
   ]
  },
  {
   "cell_type": "code",
   "execution_count": 17,
   "id": "b90fa45c",
   "metadata": {},
   "outputs": [
    {
     "name": "stdout",
     "output_type": "stream",
     "text": [
      "12\n"
     ]
    }
   ],
   "source": [
    "a =float(input())\n"
   ]
  },
  {
   "cell_type": "code",
   "execution_count": 18,
   "id": "7a986e9c",
   "metadata": {},
   "outputs": [],
   "source": [
    "salary = ii+cc*a"
   ]
  },
  {
   "cell_type": "code",
   "execution_count": 19,
   "id": "c0d02798",
   "metadata": {},
   "outputs": [
    {
     "name": "stdout",
     "output_type": "stream",
     "text": [
      "Salary After 12.0 Years of Experience would be  [[139612.62544622]]\n"
     ]
    }
   ],
   "source": [
    "print(\"Salary After\",a,\"Years of Experience would be \", salary)"
   ]
  },
  {
   "cell_type": "code",
   "execution_count": 20,
   "id": "c392a3f0",
   "metadata": {},
   "outputs": [],
   "source": [
    "score1 = (le.score(xtest,ytest))"
   ]
  },
  {
   "cell_type": "code",
   "execution_count": 21,
   "id": "53b1b3eb",
   "metadata": {},
   "outputs": [
    {
     "name": "stdout",
     "output_type": "stream",
     "text": [
      "Accuracy of this Model using Linear Regression: 90.68577573647873\n"
     ]
    }
   ],
   "source": [
    "print(\"Accuracy of this Model using Linear Regression:\",score1*100)"
   ]
  },
  {
   "cell_type": "code",
   "execution_count": 22,
   "id": "c10bf999",
   "metadata": {},
   "outputs": [
    {
     "name": "stdout",
     "output_type": "stream",
     "text": [
      "You can also check the relative salary in row 5 and make a comparison between output and actual salary in dataset\n"
     ]
    }
   ],
   "source": [
    "print(\"You can also check the relative salary in row 5 and make a comparison between output and actual salary in dataset\")"
   ]
  },
  {
   "cell_type": "markdown",
   "id": "473b8d41",
   "metadata": {},
   "source": [
    "# USING RANDOM FOREST REGRESSOR"
   ]
  },
  {
   "cell_type": "code",
   "execution_count": 23,
   "id": "5dff7f2e",
   "metadata": {},
   "outputs": [],
   "source": [
    "from sklearn.ensemble import RandomForestRegressor\n",
    "regressor = RandomForestRegressor(n_estimators=500, random_state=42)"
   ]
  },
  {
   "cell_type": "code",
   "execution_count": 24,
   "id": "ae15da30",
   "metadata": {},
   "outputs": [
    {
     "data": {
      "text/plain": [
       "array([[ 1.1],\n",
       "       [ 1.2],\n",
       "       [ 1.3],\n",
       "       [ 1.5],\n",
       "       [ 2. ],\n",
       "       [ 2.2],\n",
       "       [ 2.5],\n",
       "       [ 2.9],\n",
       "       [ 3. ],\n",
       "       [ 3.2],\n",
       "       [ 3.2],\n",
       "       [ 3.5],\n",
       "       [ 3.7],\n",
       "       [ 3.8],\n",
       "       [ 3.9],\n",
       "       [ 4. ],\n",
       "       [ 4. ],\n",
       "       [ 4.1],\n",
       "       [ 4.3],\n",
       "       [ 4.5],\n",
       "       [ 4.7],\n",
       "       [ 4.9],\n",
       "       [ 5.1],\n",
       "       [ 5.3],\n",
       "       [ 5.5],\n",
       "       [ 5.9],\n",
       "       [ 6. ],\n",
       "       [ 6.2],\n",
       "       [ 6.5],\n",
       "       [ 6.8],\n",
       "       [ 7.1],\n",
       "       [ 7.9],\n",
       "       [ 8.2],\n",
       "       [ 8.5],\n",
       "       [ 8.7],\n",
       "       [ 9. ],\n",
       "       [ 9.5],\n",
       "       [ 9.6],\n",
       "       [10.3],\n",
       "       [10.5]])"
      ]
     },
     "execution_count": 24,
     "metadata": {},
     "output_type": "execute_result"
    }
   ],
   "source": [
    "XX =data.iloc[:, 0:1].values\n",
    "XX"
   ]
  },
  {
   "cell_type": "code",
   "execution_count": 25,
   "id": "4edeb72a",
   "metadata": {},
   "outputs": [],
   "source": [
    "YY = data.iloc[:, 1].values"
   ]
  },
  {
   "cell_type": "code",
   "execution_count": 26,
   "id": "5ad2a372",
   "metadata": {},
   "outputs": [
    {
     "data": {
      "text/plain": [
       "array([ 39343,  42774,  46205,  37731,  43525,  39891,  48266,  56642,\n",
       "        60150,  54445,  64445,  60000,  57189,  60200,  63218,  55794,\n",
       "        56957,  57081,  59095,  61111,  64500,  67938,  66029,  83088,\n",
       "        82200,  81363,  93940,  91000,  90000,  91738,  98273, 101302,\n",
       "       113812, 111620, 109431, 105582, 116969, 112635, 122391, 121872],\n",
       "      dtype=int64)"
      ]
     },
     "execution_count": 26,
     "metadata": {},
     "output_type": "execute_result"
    }
   ],
   "source": [
    "YY"
   ]
  },
  {
   "cell_type": "code",
   "execution_count": 27,
   "id": "80ffcf9c",
   "metadata": {},
   "outputs": [],
   "source": [
    "xxtrain , xxtest , yytrain , yytest = train_test_split(XX,YY,test_size=0.2,random_state=42)"
   ]
  },
  {
   "cell_type": "code",
   "execution_count": 28,
   "id": "07bb8711",
   "metadata": {},
   "outputs": [
    {
     "data": {
      "text/plain": [
       "RandomForestRegressor(n_estimators=500, random_state=42)"
      ]
     },
     "execution_count": 28,
     "metadata": {},
     "output_type": "execute_result"
    }
   ],
   "source": [
    "regressor.fit(xxtrain, yytrain)"
   ]
  },
  {
   "cell_type": "code",
   "execution_count": 29,
   "id": "6922e031",
   "metadata": {},
   "outputs": [
    {
     "name": "stdout",
     "output_type": "stream",
     "text": [
      "12\n"
     ]
    }
   ],
   "source": [
    "b=float(input())"
   ]
  },
  {
   "cell_type": "code",
   "execution_count": 30,
   "id": "8b8d73a2",
   "metadata": {},
   "outputs": [],
   "source": [
    "salary1=regressor.predict([[b]])"
   ]
  },
  {
   "cell_type": "code",
   "execution_count": 31,
   "id": "1071f016",
   "metadata": {},
   "outputs": [
    {
     "name": "stdout",
     "output_type": "stream",
     "text": [
      "Salary After 12.0 Years of Experience would be  [121158.676]\n"
     ]
    }
   ],
   "source": [
    "print(\"Salary After\",b,\"Years of Experience would be \", salary1)"
   ]
  },
  {
   "cell_type": "code",
   "execution_count": 32,
   "id": "3353152f",
   "metadata": {},
   "outputs": [
    {
     "name": "stdout",
     "output_type": "stream",
     "text": [
      "ACCURACY OF RANDOMFOREST REGRESSOR ON THIS DATASET IS:  93.7514148504671\n"
     ]
    }
   ],
   "source": [
    "print(\"ACCURACY OF RANDOMFOREST REGRESSOR ON THIS DATASET IS: \" ,regressor.score(xxtest,yytest)*100)"
   ]
  },
  {
   "cell_type": "code",
   "execution_count": 33,
   "id": "24ea3e2c",
   "metadata": {},
   "outputs": [
    {
     "name": "stdout",
     "output_type": "stream",
     "text": [
      "-----------------------------------------------------------------------------------\n",
      "SALARY ACCORDING TO LINEAR REGRESSION IN 12.0 YEARS: [[139612.62544622]]\n",
      "ACCURACY OF LINEAR REGRESSION ON THIS DATASET IS: 90.68577573647873\n",
      "-----------------------------------------------------------------------------------\n",
      "SALARY ACCORDING TO RANDOM FOREST IN 12.0 YEARS: [121158.676]\n",
      "ACCURACY OF RANDOMFOREST REGRESSOR ON THIS DATASET IS: 93.7514148504671\n",
      "-----------------------------------------------------------------------------------\n"
     ]
    }
   ],
   "source": [
    "print(\"-----------------------------------------------------------------------------------\")\n",
    "print(\"SALARY ACCORDING TO LINEAR REGRESSION IN\" , a ,\"YEARS:\",salary)\n",
    "print(\"ACCURACY OF LINEAR REGRESSION ON THIS DATASET IS:\",score1*100)\n",
    "print(\"-----------------------------------------------------------------------------------\")\n",
    "print(\"SALARY ACCORDING TO RANDOM FOREST IN\" , b ,\"YEARS:\",salary1)\n",
    "print(\"ACCURACY OF RANDOMFOREST REGRESSOR ON THIS DATASET IS:\",regressor.score(xxtest,yytest)*100)\n",
    "print(\"-----------------------------------------------------------------------------------\")"
   ]
  },
  {
   "cell_type": "code",
   "execution_count": null,
   "id": "d2c4e5eb",
   "metadata": {},
   "outputs": [],
   "source": []
  },
  {
   "cell_type": "code",
   "execution_count": null,
   "id": "9eae7e5b",
   "metadata": {},
   "outputs": [],
   "source": []
  }
 ],
 "metadata": {
  "kernelspec": {
   "display_name": "Python 3 (ipykernel)",
   "language": "python",
   "name": "python3"
  },
  "language_info": {
   "codemirror_mode": {
    "name": "ipython",
    "version": 3
   },
   "file_extension": ".py",
   "mimetype": "text/x-python",
   "name": "python",
   "nbconvert_exporter": "python",
   "pygments_lexer": "ipython3",
   "version": "3.9.6"
  }
 },
 "nbformat": 4,
 "nbformat_minor": 5
}
